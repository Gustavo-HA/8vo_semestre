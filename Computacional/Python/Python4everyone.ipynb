{
 "cells": [
  {
   "attachments": {},
   "cell_type": "markdown",
   "metadata": {},
   "source": [
    "<h1>Python for everyone</h1> \n",
    "<h2>freeCodeCamp.com</h2>\n",
    "\n",
    "<h4>Notas sobre el curso Python for everyone.</h4>"
   ]
  },
  {
   "attachments": {},
   "cell_type": "markdown",
   "metadata": {},
   "source": [
    "<h2>Uso de diccionarios - Contar palabras</h2>\n",
    "\n",
    "Primer bloque: Agrega las palabras al diccionario .get te regresa el valor de la llave en el argumento key, si no existe lo crea y le asigna el valor 0.\n",
    "\n",
    "Segundo bloque: Algoritmo para obtener la palabra con mayor repeticiones, .items regresa una lista de tuplas.\n",
    "\n",
    "Tercer bloque: Top 10, las tuplas no se pueden modificar pero se pueden redefinir."
   ]
  },
  {
   "cell_type": "code",
   "execution_count": 6,
   "metadata": {},
   "outputs": [
    {
     "name": "stdout",
     "output_type": "stream",
     "text": [
      "La palabra con mayores repeticiones es: que  con  8  repeticiones.\n",
      "------------- Top 10 -----------------\n",
      "que 8\n",
      "la 5\n",
      "de 5\n",
      "vida 4\n",
      "en 4\n",
      "no 3\n",
      "mi 3\n",
      "al 3\n",
      "yo 2\n",
      "y 2\n"
     ]
    }
   ],
   "source": [
    "name = \"texto.txt\"\n",
    "handle = open(name)\n",
    "\n",
    "contador = dict()\n",
    "\n",
    "for guion in handle:\n",
    "    palabras = guion.split()\n",
    "    for palabra in palabras:\n",
    "        contador[palabra] = contador.get(palabra,0)+1\n",
    "#Imprime la palabra con mayor repeticiones\n",
    "print(\"La palabra con mayores repeticiones es: \", end=\"\")\n",
    "palabramayor = None\n",
    "mayornum = None\n",
    "for palabra,numero in contador.items():\n",
    "    if mayornum is None or numero > mayornum:\n",
    "        mayornum = numero\n",
    "        palabramayor = palabra\n",
    "print(palabramayor, \", con \",mayornum,\" repeticiones.\")\n",
    "\n",
    "#Top 10\n",
    "print(\"------------- Top 10 -----------------\")\n",
    "top10 = list()\n",
    "for k,v in contador.items():\n",
    "    newtup = (v,k)\n",
    "    top10.append(newtup)\n",
    "\n",
    "top10 = sorted(top10,reverse=True)\n",
    "for v,k in top10[:10]:\n",
    "    print(k,v)\n"
   ]
  },
  {
   "attachments": {},
   "cell_type": "markdown",
   "metadata": {},
   "source": [
    "Una versión más corta para obtener la lista de los valores con sus keys ordenadas de mayor a menor usando list comprehension."
   ]
  },
  {
   "cell_type": "code",
   "execution_count": 7,
   "metadata": {},
   "outputs": [
    {
     "name": "stdout",
     "output_type": "stream",
     "text": [
      "[(20, 'b'), (10, 'c'), (1, 'a')]\n"
     ]
    }
   ],
   "source": [
    "dictionary = {'a':1,\n",
    "              'b':20,\n",
    "              'c':10}\n",
    "\n",
    "ordenado = sorted([ (v,k) for k,v in dictionary.items() ],reverse=True)\n",
    "print(ordenado)"
   ]
  },
  {
   "attachments": {},
   "cell_type": "markdown",
   "metadata": {},
   "source": [
    "## REGULAR EXPRESIONS\n",
    "También conocidos como \"regex\" o \"regexp\" provee una forma concisa y flexible para añadir strings a un texto, como carácteres particulares, palabras o patrones de carácteres.  \n",
    "\n",
    "* ^   &nbsp;&nbsp;&nbsp;&nbsp;&nbsp;  Coincide con el comienzo de una línea   \n",
    "* $   &nbsp;&nbsp;&nbsp;&nbsp;&nbsp;    Coincide con el final de una línea  \n",
    "* .  &nbsp;&nbsp;&nbsp;&nbsp;&nbsp;     Coincide con cualquier carácter  \n",
    "* \\s   &nbsp;&nbsp;&nbsp;&nbsp;&nbsp;   Coincide con un espacio.  \n",
    "* \\S  &nbsp;&nbsp;&nbsp;&nbsp;&nbsp;    Coincide con cualquier carácter que no sea espacio  \n",
    "* \\* &nbsp;&nbsp;&nbsp;&nbsp;&nbsp; Repite un carácter zero o más veces.  \n",
    "* *? &nbsp;&nbsp;&nbsp;&nbsp;&nbsp; Repite un carácter cero o más veces (non-greedy).  \n",
    "* \\+ &nbsp;&nbsp;&nbsp;&nbsp;&nbsp; Repite un caracter una o más veces.  \n",
    "* +? &nbsp;&nbsp;&nbsp;&nbsp;&nbsp; Repite un caracter una o más veces (non-greedy).  \n",
    "* [aeiou] &nbsp;&nbsp;&nbsp;&nbsp;&nbsp; Parea con un solo carácter listado en la lista.  \n",
    "* [^XYZ] &nbsp;&nbsp;&nbsp;&nbsp;&nbsp; Parea con un solo carácter no listado en la lista.  \n",
    "* [a-z0-9] &nbsp;&nbsp;&nbsp;&nbsp;&nbsp; El set de caracteres pueden incluir un rango.  \n",
    "* \\( &nbsp;&nbsp;&nbsp;&nbsp;&nbsp; Indica donde comenzará la extracción del string.  \n",
    "* ) &nbsp;&nbsp;&nbsp;&nbsp;&nbsp; Indica donde la extracción del string terminará\n",
    "\n"
   ]
  },
  {
   "attachments": {},
   "cell_type": "markdown",
   "metadata": {},
   "source": [
    "## Pareo y extracción de datos  \n",
    "* re.search() nos regresa un True/False dependiendo en si el string contiene la regular expression.  \n",
    "* Si queremos encontrar los strings que coinciden para ser extraídos utilizamos re.findall()  "
   ]
  },
  {
   "attachments": {},
   "cell_type": "markdown",
   "metadata": {},
   "source": [
    "### Ejemplo con re.findall"
   ]
  },
  {
   "cell_type": "code",
   "execution_count": 11,
   "metadata": {},
   "outputs": [
    {
     "name": "stdout",
     "output_type": "stream",
     "text": [
      "['2', '18', '25']\n",
      "['Mis', 'numeros', 'favoritos', 'son', 'el', 'y', 'el']\n"
     ]
    }
   ],
   "source": [
    "import re\n",
    "x = 'Mis 2 numeros favoritos son el 18 y el 25'\n",
    "y = re.findall('[0-9]+',x)\n",
    "print(y)\n",
    "y = re.findall('[a-zA-Z]+',x)\n",
    "print(y)"
   ]
  },
  {
   "attachments": {},
   "cell_type": "markdown",
   "metadata": {},
   "source": [
    "### Ejemplo Greedy y Non-Greedy  \n",
    "* En este ejemplo ^F nos indica que el primer caracter en el pareo es una F, .+ indica que es uno o más caracteres y que esos caracteres pueden ser los que sea, : es el caracter final."
   ]
  },
  {
   "cell_type": "code",
   "execution_count": 13,
   "metadata": {},
   "outputs": [
    {
     "name": "stdout",
     "output_type": "stream",
     "text": [
      "['From: using the:']\n"
     ]
    }
   ],
   "source": [
    "# Greedy matching buscará formar el string más largo posible.\n",
    "import re\n",
    "x = 'From: using the: character'\n",
    "y = re.findall('^F.+:',x)\n",
    "print(y)"
   ]
  },
  {
   "cell_type": "code",
   "execution_count": 15,
   "metadata": {},
   "outputs": [
    {
     "name": "stdout",
     "output_type": "stream",
     "text": [
      "['From:']\n"
     ]
    }
   ],
   "source": [
    "# Mientras que Non-Greedy buscará el string más corto posible.\n",
    "import re\n",
    "x = 'From: using the: character'\n",
    "y = re.findall('^F.+?:',x)\n",
    "print(y)"
   ]
  },
  {
   "attachments": {},
   "cell_type": "markdown",
   "metadata": {},
   "source": [
    "Podemos refinar el pareo que hace re.findall y de forma separada determinar cuál porción del pareo será extraída utilizando parentesis"
   ]
  },
  {
   "cell_type": "code",
   "execution_count": 16,
   "metadata": {},
   "outputs": [
    {
     "name": "stdout",
     "output_type": "stream",
     "text": [
      "['gustavoha40@gmail.com']\n"
     ]
    }
   ],
   "source": [
    "import re\n",
    "x = 'Mi correo es gustavoha40@gmail.com por si desean contactarme.'\n",
    "y = re.findall('\\S+@\\S+',x)\n",
    "print(y)"
   ]
  },
  {
   "attachments": {},
   "cell_type": "markdown",
   "metadata": {},
   "source": [
    "# Una petición HTTP en Python  \n",
    "### Web Browser simple"
   ]
  },
  {
   "cell_type": "code",
   "execution_count": null,
   "metadata": {},
   "outputs": [],
   "source": [
    "# Estas primeras 3 líneas preparan una conexión hacia el dominio data.pr4e,org al puerto 80\n",
    "import socket\n",
    "mysock = socket.socket(socket.AF_INET, socket.SOCK_STREAM)\n",
    "mysock.connect(('data.pr4e.org', 80))\n",
    "\n",
    "# cmd Es el comando que queremos enviar hacia el servidor, en este caso, requerimos el html que se almacena en http://data.pr4e.org/romeo.txt \n",
    "# y enviamos el comando.\n",
    "cmd = 'GET http://data.pr4e.org/romeo.txt HTTP/1.0\\r\\n\\r\\n'.encode() # Codificamos en UTF-8 antes de enviarlo\n",
    "mysock.send(cmd)\n",
    "\n",
    "# Iremos recibiendo datos de 512 carácteres en 512, y si no se nos envían más datos, se quita el ciclo.\n",
    "while True:\n",
    "    data = mysock.recv(32)\n",
    "    if len(data) < 1:\n",
    "        break\n",
    "    print(data.decode(),end='') # Descodificamos el UTF-8 para recibirlo como string unicode\n",
    "mysock.close()"
   ]
  },
  {
   "attachments": {},
   "cell_type": "markdown",
   "metadata": {},
   "source": [
    "Como lo anterior es tanto mugrero para realizar una petición, alguien decidió comprimir estos comandos dentro de una libreria <3.  \n",
    "Esta libreria tiene por nombre **URLLIB**. Podemos hacer lo del bloque anterior con únicamente 4 líneas de código."
   ]
  },
  {
   "cell_type": "code",
   "execution_count": 6,
   "metadata": {},
   "outputs": [
    {
     "name": "stdout",
     "output_type": "stream",
     "text": [
      "But soft what light through yonder window breaks\n",
      "It is the east and Juliet is the sun\n",
      "Arise fair sun and kill the envious moon\n",
      "Who is already sick and pale with grief\n"
     ]
    }
   ],
   "source": [
    "import urllib.request, urllib.parse, urllib.error\n",
    "\n",
    "fhand = urllib.request.urlopen('http://data.pr4e.org/romeo.txt')\n",
    "for line in fhand:\n",
    "    print(line.decode().strip())"
   ]
  },
  {
   "attachments": {},
   "cell_type": "markdown",
   "metadata": {},
   "source": [
    "# WebScraping en Python  \n"
   ]
  },
  {
   "attachments": {},
   "cell_type": "markdown",
   "metadata": {},
   "source": [
    "## ¿Qué es el Web Scraping?\n",
    "* Cuando un programa o script intenta ser un browser y recupera páginas web lo que hace es mirar a esas páginas web, extrae información y luego mira más páginas web.  \n",
    "\n",
    "* Los motores de búsqueda scrapean páginas web - A esto se le llama *Spidering the web* o *Web crawling*."
   ]
  },
  {
   "attachments": {},
   "cell_type": "markdown",
   "metadata": {},
   "source": [
    "## ¿Por qué Scrapear?\n",
    "* Pull data - particularmente datos \"sociales\" - ¿quién conecta a quién?  \n",
    "\n",
    "* Conseguir tus propios datos de algún sistema que no tiene la \"capacidad de exportar\".  \n",
    "\n",
    "* Monitorear un sitio para nueva información.  \n",
    " \n",
    "* Spider the web para crear una base de datos para un motor de búsqueda."
   ]
  },
  {
   "attachments": {},
   "cell_type": "markdown",
   "metadata": {},
   "source": [
    "## La manera fácil - Beautiful Soup  \n",
    "* Puedes hacer búsquedas de strings dentro de los html's de la manera díficil, o podrías usar la libreria de código abierto Beautiful Soup desde www.crummy.com"
   ]
  },
  {
   "cell_type": "code",
   "execution_count": 12,
   "metadata": {},
   "outputs": [],
   "source": [
    "import urllib.request, urllib.parse, urllib.error\n",
    "from bs4 import BeautifulSoup\n",
    "\n",
    "url = input('Enter - ') # Escribimos una url\n",
    "html = urllib.request.urlopen(url).read() # Abremos el sitio y lo leemos completo\n",
    "# html serán puros bytes, pero BS sabe todo sobre bytes y UTF-8 así que no hay pedo.\n",
    "\n",
    "# Esto dice \"hey, agarra todo lo del doc html, rompelo y dame un objeto de clase Soup\"\n",
    "soup = BeautifulSoup(html,'html.parser') # \n",
    "print(soup)\n",
    "tags = soup('a')\n",
    "for tag in tags:\n",
    "    print(tag.get('href',None))"
   ]
  }
 ],
 "metadata": {
  "kernelspec": {
   "display_name": "Python 3",
   "language": "python",
   "name": "python3"
  },
  "language_info": {
   "codemirror_mode": {
    "name": "ipython",
    "version": 3
   },
   "file_extension": ".py",
   "mimetype": "text/x-python",
   "name": "python",
   "nbconvert_exporter": "python",
   "pygments_lexer": "ipython3",
   "version": "3.11.2"
  },
  "orig_nbformat": 4
 },
 "nbformat": 4,
 "nbformat_minor": 2
}
